{
 "cells": [
  {
   "cell_type": "code",
   "execution_count": 1,
   "metadata": {},
   "outputs": [],
   "source": [
    "from rubin_sim.scheduler.model_observatory import ModelObservatory\n",
    "import numpy as np\n",
    "from rubin_sim.site_models import Almanac\n",
    "from rubin_sim.site_models import CloudData\n",
    "%matplotlib inline\n",
    "import matplotlib.pylab as plt\n",
    "from scipy.stats import binned_statistic\n",
    "from astropy.time import Time\n",
    "\n",
    "from datetime import datetime\n",
    "\n",
    "from rubin_sim.site_models import ScheduledDowntimeData, UnscheduledDowntimeData\n",
    "from rubin_sim.utils import survey_start_mjd"
   ]
  },
  {
   "cell_type": "code",
   "execution_count": 2,
   "metadata": {},
   "outputs": [],
   "source": [
    "mjd_start=survey_start_mjd()\n",
    "cloud_limit=0.3\n",
    "mjd_start_time = Time(mjd_start, format='mjd')\n",
    "\n",
    "almanac = Almanac(mjd_start=mjd_start)\n",
    "cloud_data = CloudData(mjd_start_time, offset_year=0)"
   ]
  },
  {
   "cell_type": "code",
   "execution_count": null,
   "metadata": {},
   "outputs": [
    {
     "name": "stderr",
     "output_type": "stream",
     "text": [
      "/Users/yoachim/anaconda3/envs/guro/lib/python3.8/site-packages/erfa/core.py:154: ErfaWarning: ERFA function \"utctai\" yielded 1 of \"dubious year (Note 3)\"\n",
      "  warnings.warn('ERFA function \"{}\" yielded {}'.format(func_name, wmsg),\n"
     ]
    }
   ],
   "source": [
    "mjds = np.arange(mjd_start, mjd_start+365.25*10, 1/24/10.)\n",
    "times = Time(mjds, format='mjd')\n",
    "\n",
    "bulk_cloud = [cloud_data(time) for time in times]\n"
   ]
  },
  {
   "cell_type": "code",
   "execution_count": null,
   "metadata": {},
   "outputs": [],
   "source": [
    "#plt.plot(mjds, bulk_cloud, 'ko')"
   ]
  },
  {
   "cell_type": "code",
   "execution_count": null,
   "metadata": {},
   "outputs": [],
   "source": [
    "sun_moon_info = almanac.get_sun_moon_positions(mjds)\n",
    "good = np.where(sun_moon_info['sun_alt'] < np.radians(-18.))[0]"
   ]
  },
  {
   "cell_type": "code",
   "execution_count": null,
   "metadata": {},
   "outputs": [],
   "source": [
    "_temp = plt.hist(np.array(bulk_cloud)[good], bins=np.arange(-.05, 1.15, .1), weights=np.ones(good.size)/np.size(good))\n",
    "plt.xlabel('Fraction of Sky Clouded')\n",
    "plt.ylabel('Fraction of Time')\n",
    "plt.title('Cloud Model')\n",
    "plt.savefig('cloud_levels.pdf')"
   ]
  },
  {
   "cell_type": "code",
   "execution_count": null,
   "metadata": {},
   "outputs": [],
   "source": [
    "good.shape, np.size(bulk_cloud)"
   ]
  },
  {
   "cell_type": "code",
   "execution_count": null,
   "metadata": {},
   "outputs": [],
   "source": [
    "print('Fraction of time we set as clouded out', np.where(np.array(bulk_cloud)[good] > cloud_limit)[0].size/good.size)"
   ]
  },
  {
   "cell_type": "code",
   "execution_count": null,
   "metadata": {},
   "outputs": [],
   "source": [
    "good = np.where((sun_moon_info['sun_alt'] < np.radians(-18.)) & (np.array(bulk_cloud) < cloud_limit))[0]\n",
    "sun_down = np.where((sun_moon_info['sun_alt'] < np.radians(-18.)))[0]\n",
    "\n",
    "almanac_indx = almanac.mjd_indx(mjds)\n",
    "nights = almanac.sunsets['night'][almanac_indx]"
   ]
  },
  {
   "cell_type": "code",
   "execution_count": null,
   "metadata": {},
   "outputs": [],
   "source": []
  },
  {
   "cell_type": "code",
   "execution_count": null,
   "metadata": {},
   "outputs": [],
   "source": [
    "times = np.ones(np.size(good))*(mjds[1]-mjds[0])*24\n",
    "all_times = np.ones(np.size(sun_down))*(mjds[1]-mjds[0])*24"
   ]
  },
  {
   "cell_type": "code",
   "execution_count": null,
   "metadata": {},
   "outputs": [],
   "source": [
    "n = nights[good] % 365\n",
    "# fudge the bins because there's something weird going on at the start I don't want to bother wth\n",
    "bins = np.arange(5., 366, 1)\n",
    "hours_available, be, bi = binned_statistic(n, times, bins=bins, statistic=np.sum)\n",
    "\n",
    "all_hours_possible, be, bi = binned_statistic((nights[sun_down] % 365), all_times,\n",
    "                                              bins=bins, statistic=np.sum)"
   ]
  },
  {
   "cell_type": "code",
   "execution_count": null,
   "metadata": {},
   "outputs": [],
   "source": [
    "night_binned = (be[1:]+be[:-1])/2\n",
    "plt.plot(night_binned, hours_available/10., label='Mean, Clouds < 3/10')\n",
    "plt.plot(night_binned, all_hours_possible/10., label='Possible')\n",
    "plt.xlabel('Night (modulo 365 over 10 years)')\n",
    "plt.ylabel('Time Available (Hours)')\n",
    "plt.title('Sun < -18 degrees altitude')\n",
    "plt.legend()\n",
    "\n",
    "sched_dts = [[33,40], [249,256], [249,263]]\n",
    "for dt in sched_dts:\n",
    "    plt.fill_between(dt, [0,0], y2=[15,15], alpha=.2, color='orange')\n",
    "plt.ylim([2,12])\n",
    "plt.savefig('hours_pernight.pdf')"
   ]
  },
  {
   "cell_type": "code",
   "execution_count": null,
   "metadata": {},
   "outputs": [],
   "source": [
    "# Let's also plot up the scheduled and unscheduled downtime\n"
   ]
  },
  {
   "cell_type": "code",
   "execution_count": null,
   "metadata": {},
   "outputs": [],
   "source": [
    "mjd_start_time = Time(mjd_start, format='mjd')\n",
    "# Downtime\n",
    "down_nights = []\n",
    "sched_downtime_data = ScheduledDowntimeData(mjd_start_time)\n",
    "unsched_downtime_data = UnscheduledDowntimeData(mjd_start_time)\n",
    "\n",
    "sched_downtimes = sched_downtime_data()\n",
    "unsched_downtimes = unsched_downtime_data()\n",
    "\n",
    "down_starts = []\n",
    "down_ends = []\n",
    "for dt in sched_downtimes:\n",
    "    down_starts.append(dt['start'].mjd)\n",
    "    down_ends.append(dt['end'].mjd)\n",
    "for dt in unsched_downtimes:\n",
    "    down_starts.append(dt['start'].mjd)\n",
    "    down_ends.append(dt['end'].mjd)\n",
    "\n",
    "downtimes = np.array(list(zip(down_starts, down_ends)), dtype=list(zip(['start', 'end'], [float, float])))\n",
    "downtimes.sort(order='start')\n",
    "\n",
    "# Make sure there aren't any overlapping downtimes\n",
    "diff = downtimes['start'][1:] - downtimes['end'][0:-1]\n",
    "while np.min(diff) < 0:\n",
    "    # Should be able to do this wihtout a loop, but this works\n",
    "    for i, dt in enumerate(downtimes[0:-1]):\n",
    "        if downtimes['start'][i+1] < dt['end']:\n",
    "            new_end = np.max([dt['end'], downtimes['end'][i+1]])\n",
    "            downtimes[i]['end'] = new_end\n",
    "            downtimes[i+1]['end'] = new_end\n",
    "\n",
    "    good = np.where(downtimes['end'] - np.roll(downtimes['end'], 1) != 0)\n",
    "    downtimes = downtimes[good]\n",
    "    diff = downtimes['start'][1:] - downtimes['end'][0:-1]\n"
   ]
  },
  {
   "cell_type": "code",
   "execution_count": null,
   "metadata": {},
   "outputs": [],
   "source": [
    "sched_list = [np.arange(slice['start'].mjd, slice['end'].mjd+1, 1) for slice in sched_downtimes]\n",
    "unsched_list = [np.arange(slice['start'].mjd, slice['end'].mjd+1, 1) for slice in unsched_downtimes]\n",
    "\n",
    "alldown = [np.arange(slice[0], slice[1]+1, 1) for slice in downtimes]\n"
   ]
  },
  {
   "cell_type": "code",
   "execution_count": null,
   "metadata": {},
   "outputs": [],
   "source": [
    "sched = np.concatenate(sched_list)\n",
    "unsched = np.concatenate(unsched_list)\n",
    "alldown = np.concatenate(alldown)"
   ]
  },
  {
   "cell_type": "code",
   "execution_count": null,
   "metadata": {},
   "outputs": [],
   "source": [
    "almanac_indx = almanac.mjd_indx(sched)\n",
    "nights = almanac.sunsets['night'][almanac_indx]\n",
    "good=np.where(nights >= 0 )\n",
    "\n",
    "lost =np.arange(0, np.size(sched[good]), 1)\n",
    "plt.plot(nights[good], lost, label='Scheduled')\n",
    "\n",
    "\n",
    "almanac_indx = almanac.mjd_indx(unsched)\n",
    "nights = almanac.sunsets['night'][almanac_indx]\n",
    "good=np.where(nights >= 0 )\n",
    "\n",
    "lost =np.arange(0, np.size(unsched[good]), 1)\n",
    "plt.plot(nights[good], lost, label='Unscheduled')\n",
    "\n",
    "\n",
    "almanac_indx = almanac.mjd_indx(alldown)\n",
    "nights = almanac.sunsets['night'][almanac_indx]\n",
    "good=np.where(nights >= 0 )\n",
    "\n",
    "lost =np.arange(0, np.size(alldown[good]), 1)\n",
    "plt.plot(nights[good], lost, label='Combined')\n",
    "\n",
    "\n",
    "plt.xlim([0,3652])\n",
    "plt.xlabel('Night')\n",
    "plt.ylabel('Cumulative Downtime (nights)')\n",
    "plt.legend(loc='upper left')\n",
    "plt.ylim([0,400])\n",
    "plt.title('BUG, NOT A GOOD PLOT')\n",
    "#plt.savefig('downtimes.pdf')"
   ]
  },
  {
   "cell_type": "code",
   "execution_count": null,
   "metadata": {},
   "outputs": [],
   "source": [
    "almanac_indx = almanac.mjd_indx(sched)\n",
    "nights = almanac.sunsets['night'][almanac_indx]\n",
    "nights = nights[np.where(nights > 0)]\n",
    "nights % 365"
   ]
  },
  {
   "cell_type": "code",
   "execution_count": null,
   "metadata": {},
   "outputs": [],
   "source": [
    "# Let's load up the observatory model and double check\n",
    "mo = ModelObservatory()"
   ]
  },
  {
   "cell_type": "code",
   "execution_count": null,
   "metadata": {},
   "outputs": [],
   "source": [
    "mo.downtimes\n",
    "dts = [np.arange(dt['start'], dt['end']+1,1) for dt in mo.downtimes]\n",
    "dts = np.unique(np.concatenate(dts))\n",
    "almanac_indx = almanac.mjd_indx(dts)\n",
    "nights_dts = almanac.sunsets['night'][almanac_indx]"
   ]
  },
  {
   "cell_type": "code",
   "execution_count": null,
   "metadata": {},
   "outputs": [],
   "source": []
  },
  {
   "cell_type": "code",
   "execution_count": null,
   "metadata": {},
   "outputs": [],
   "source": [
    "almanac.sunsets['night']"
   ]
  },
  {
   "cell_type": "code",
   "execution_count": null,
   "metadata": {},
   "outputs": [],
   "source": [
    "good = np.where((almanac.sunsets['night'] > 0) & (almanac.sunsets['night'] < 3652))\n",
    "mjds_to_check = almanac.sunsets['sun_n18_setting'][good]\n",
    "sched_down = np.zeros(mjds_to_check.size)\n",
    "unsched_down = np.zeros(mjds_to_check.size)\n",
    "nights = almanac.sunsets['night'][good]"
   ]
  },
  {
   "cell_type": "code",
   "execution_count": null,
   "metadata": {},
   "outputs": [],
   "source": [
    "down_starts = []\n",
    "down_ends = []\n",
    "for dt in sched_downtimes:\n",
    "    down_starts.append(dt['start'].mjd)\n",
    "    down_ends.append(dt['end'].mjd)"
   ]
  },
  {
   "cell_type": "code",
   "execution_count": null,
   "metadata": {},
   "outputs": [],
   "source": [
    "for i,mjd in enumerate(mjds_to_check):\n",
    "    indx = np.searchsorted(down_starts, mjd, side='right')-1\n",
    "    if mjd < down_ends[indx]:\n",
    "        sched_down[i] = 1"
   ]
  },
  {
   "cell_type": "code",
   "execution_count": null,
   "metadata": {},
   "outputs": [],
   "source": [
    "down_starts = []\n",
    "down_ends = []\n",
    "for dt in unsched_downtimes:\n",
    "    down_starts.append(dt['start'].mjd)\n",
    "    down_ends.append(dt['end'].mjd)"
   ]
  },
  {
   "cell_type": "code",
   "execution_count": null,
   "metadata": {},
   "outputs": [],
   "source": [
    "for i,mjd in enumerate(mjds_to_check):\n",
    "    indx = np.searchsorted(down_starts, mjd, side='right')-1\n",
    "    if mjd < down_ends[indx]:\n",
    "        unsched_down[i] = 1"
   ]
  },
  {
   "cell_type": "code",
   "execution_count": null,
   "metadata": {},
   "outputs": [],
   "source": [
    "both_down = sched_down + unsched_down"
   ]
  },
  {
   "cell_type": "code",
   "execution_count": null,
   "metadata": {},
   "outputs": [],
   "source": [
    "both_down[np.where(both_down > 1)] = 1\n",
    "both_down = np.cumsum(both_down)\n",
    "sched_down = np.cumsum(sched_down)\n",
    "unsched_down = np.cumsum(unsched_down)"
   ]
  },
  {
   "cell_type": "code",
   "execution_count": null,
   "metadata": {},
   "outputs": [],
   "source": [
    "plt.plot(nights, sched_down, label='Scheduled')\n",
    "plt.plot(nights, unsched_down, label='Unscheduled')\n",
    "plt.plot(nights, both_down, label='Combined')\n",
    "plt.legend()\n",
    "plt.xlabel('Night')\n",
    "plt.ylabel('Cumulative Downtime (nights)')\n",
    "plt.title('Downtime')\n",
    "\n",
    "plt.savefig('downtimes.pdf')"
   ]
  },
  {
   "cell_type": "code",
   "execution_count": null,
   "metadata": {},
   "outputs": [],
   "source": [
    "sched_down.max()"
   ]
  },
  {
   "cell_type": "code",
   "execution_count": null,
   "metadata": {},
   "outputs": [],
   "source": []
  },
  {
   "cell_type": "code",
   "execution_count": null,
   "metadata": {},
   "outputs": [],
   "source": []
  }
 ],
 "metadata": {
  "kernelspec": {
   "display_name": "Python 3 (ipykernel)",
   "language": "python",
   "name": "python3"
  },
  "language_info": {
   "codemirror_mode": {
    "name": "ipython",
    "version": 3
   },
   "file_extension": ".py",
   "mimetype": "text/x-python",
   "name": "python",
   "nbconvert_exporter": "python",
   "pygments_lexer": "ipython3",
   "version": "3.8.13"
  }
 },
 "nbformat": 4,
 "nbformat_minor": 2
}
