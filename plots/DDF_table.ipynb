{
 "cells": [
  {
   "cell_type": "code",
   "execution_count": 6,
   "id": "564e6456",
   "metadata": {},
   "outputs": [],
   "source": [
    "from rubin_sim.utils import ddf_locations\n",
    "import pandas as pd"
   ]
  },
  {
   "cell_type": "code",
   "execution_count": 4,
   "id": "fdcbcd54",
   "metadata": {},
   "outputs": [],
   "source": [
    "locations = ddf_locations()"
   ]
  },
  {
   "cell_type": "code",
   "execution_count": 5,
   "id": "425618fd",
   "metadata": {},
   "outputs": [
    {
     "data": {
      "text/plain": [
       "{'ELAISS1': (9.45, -44.0),\n",
       " 'XMM_LSS': (35.708333, -4.75),\n",
       " 'ECDFS': (53.125, -28.1),\n",
       " 'COSMOS': (150.1, 2.1819444444444445),\n",
       " 'EDFS_a': (58.9, -49.315),\n",
       " 'EDFS_b': (63.6, -47.6)}"
      ]
     },
     "execution_count": 5,
     "metadata": {},
     "output_type": "execute_result"
    }
   ],
   "source": [
    "locations"
   ]
  },
  {
   "cell_type": "code",
   "execution_count": 11,
   "id": "7862cc14",
   "metadata": {},
   "outputs": [],
   "source": [
    "ack = []\n",
    "for key in locations:\n",
    "    ack.append({'Short Name': key, 'RA': locations[key][0], 'Dec': locations[key][1]})\n",
    "\n",
    "df = pd.DataFrame(ack)"
   ]
  },
  {
   "cell_type": "code",
   "execution_count": 12,
   "id": "04efbfd7",
   "metadata": {},
   "outputs": [
    {
     "data": {
      "text/html": [
       "<div>\n",
       "<style scoped>\n",
       "    .dataframe tbody tr th:only-of-type {\n",
       "        vertical-align: middle;\n",
       "    }\n",
       "\n",
       "    .dataframe tbody tr th {\n",
       "        vertical-align: top;\n",
       "    }\n",
       "\n",
       "    .dataframe thead th {\n",
       "        text-align: right;\n",
       "    }\n",
       "</style>\n",
       "<table border=\"1\" class=\"dataframe\">\n",
       "  <thead>\n",
       "    <tr style=\"text-align: right;\">\n",
       "      <th></th>\n",
       "      <th>Short Name</th>\n",
       "      <th>RA</th>\n",
       "      <th>Dec</th>\n",
       "    </tr>\n",
       "  </thead>\n",
       "  <tbody>\n",
       "    <tr>\n",
       "      <th>0</th>\n",
       "      <td>ELAISS1</td>\n",
       "      <td>9.450000</td>\n",
       "      <td>-44.000000</td>\n",
       "    </tr>\n",
       "    <tr>\n",
       "      <th>1</th>\n",
       "      <td>XMM_LSS</td>\n",
       "      <td>35.708333</td>\n",
       "      <td>-4.750000</td>\n",
       "    </tr>\n",
       "    <tr>\n",
       "      <th>2</th>\n",
       "      <td>ECDFS</td>\n",
       "      <td>53.125000</td>\n",
       "      <td>-28.100000</td>\n",
       "    </tr>\n",
       "    <tr>\n",
       "      <th>3</th>\n",
       "      <td>COSMOS</td>\n",
       "      <td>150.100000</td>\n",
       "      <td>2.181944</td>\n",
       "    </tr>\n",
       "    <tr>\n",
       "      <th>4</th>\n",
       "      <td>EDFS_a</td>\n",
       "      <td>58.900000</td>\n",
       "      <td>-49.315000</td>\n",
       "    </tr>\n",
       "    <tr>\n",
       "      <th>5</th>\n",
       "      <td>EDFS_b</td>\n",
       "      <td>63.600000</td>\n",
       "      <td>-47.600000</td>\n",
       "    </tr>\n",
       "  </tbody>\n",
       "</table>\n",
       "</div>"
      ],
      "text/plain": [
       "  Short Name          RA        Dec\n",
       "0    ELAISS1    9.450000 -44.000000\n",
       "1    XMM_LSS   35.708333  -4.750000\n",
       "2      ECDFS   53.125000 -28.100000\n",
       "3     COSMOS  150.100000   2.181944\n",
       "4     EDFS_a   58.900000 -49.315000\n",
       "5     EDFS_b   63.600000 -47.600000"
      ]
     },
     "execution_count": 12,
     "metadata": {},
     "output_type": "execute_result"
    }
   ],
   "source": [
    "df"
   ]
  },
  {
   "cell_type": "code",
   "execution_count": 20,
   "id": "c5158c51",
   "metadata": {},
   "outputs": [
    {
     "name": "stdout",
     "output_type": "stream",
     "text": [
      "\\begin{tabular}{lrr}\n",
      "\\toprule\n",
      "Short Name &      RA &     Dec \\\\\n",
      "\\midrule\n",
      "   ELAISS1 &   9.450 & -44.000 \\\\\n",
      "   XMM\\_LSS &  35.708 &  -4.750 \\\\\n",
      "     ECDFS &  53.125 & -28.100 \\\\\n",
      "    COSMOS & 150.100 &   2.182 \\\\\n",
      "    EDFS\\_a &  58.900 & -49.315 \\\\\n",
      "    EDFS\\_b &  63.600 & -47.600 \\\\\n",
      "\\bottomrule\n",
      "\\end{tabular}\n",
      "\n"
     ]
    },
    {
     "name": "stderr",
     "output_type": "stream",
     "text": [
      "/var/folders/05/z_zc9f654c5dlw06t4s_d68w0000gn/T/ipykernel_5640/3681248613.py:1: FutureWarning: In future versions `DataFrame.to_latex` is expected to utilise the base implementation of `Styler.to_latex` for formatting and rendering. The arguments signature may therefore change. It is recommended instead to use `DataFrame.style.to_latex` which also contains additional functionality.\n",
      "  print(df.to_latex(float_format='%.3f', index=False))\n"
     ]
    }
   ],
   "source": [
    "print(df.to_latex(float_format='%.3f', index=False))"
   ]
  },
  {
   "cell_type": "code",
   "execution_count": 17,
   "id": "26168970",
   "metadata": {},
   "outputs": [
    {
     "name": "stdout",
     "output_type": "stream",
     "text": [
      "Help on method to_latex in module pandas.core.generic:\n",
      "\n",
      "to_latex(buf=None, columns=None, col_space=None, header=True, index=True, na_rep='NaN', formatters=None, float_format=None, sparsify=None, index_names=True, bold_rows=False, column_format=None, longtable=None, escape=None, encoding=None, decimal='.', multicolumn=None, multicolumn_format=None, multirow=None, caption=None, label=None, position=None) method of pandas.core.frame.DataFrame instance\n",
      "    Render object to a LaTeX tabular, longtable, or nested table.\n",
      "    \n",
      "    Requires ``\\usepackage{booktabs}``.  The output can be copy/pasted\n",
      "    into a main LaTeX document or read from an external file\n",
      "    with ``\\input{table.tex}``.\n",
      "    \n",
      "    .. versionchanged:: 1.0.0\n",
      "       Added caption and label arguments.\n",
      "    \n",
      "    .. versionchanged:: 1.2.0\n",
      "       Added position argument, changed meaning of caption argument.\n",
      "    \n",
      "    Parameters\n",
      "    ----------\n",
      "    buf : str, Path or StringIO-like, optional, default None\n",
      "        Buffer to write to. If None, the output is returned as a string.\n",
      "    columns : list of label, optional\n",
      "        The subset of columns to write. Writes all columns by default.\n",
      "    col_space : int, optional\n",
      "        The minimum width of each column.\n",
      "    header : bool or list of str, default True\n",
      "        Write out the column names. If a list of strings is given,\n",
      "        it is assumed to be aliases for the column names.\n",
      "    index : bool, default True\n",
      "        Write row names (index).\n",
      "    na_rep : str, default 'NaN'\n",
      "        Missing data representation.\n",
      "    formatters : list of functions or dict of {str: function}, optional\n",
      "        Formatter functions to apply to columns' elements by position or\n",
      "        name. The result of each function must be a unicode string.\n",
      "        List must be of length equal to the number of columns.\n",
      "    float_format : one-parameter function or str, optional, default None\n",
      "        Formatter for floating point numbers. For example\n",
      "        ``float_format=\"%.2f\"`` and ``float_format=\"{:0.2f}\".format`` will\n",
      "        both result in 0.1234 being formatted as 0.12.\n",
      "    sparsify : bool, optional\n",
      "        Set to False for a DataFrame with a hierarchical index to print\n",
      "        every multiindex key at each row. By default, the value will be\n",
      "        read from the config module.\n",
      "    index_names : bool, default True\n",
      "        Prints the names of the indexes.\n",
      "    bold_rows : bool, default False\n",
      "        Make the row labels bold in the output.\n",
      "    column_format : str, optional\n",
      "        The columns format as specified in `LaTeX table format\n",
      "        <https://en.wikibooks.org/wiki/LaTeX/Tables>`__ e.g. 'rcl' for 3\n",
      "        columns. By default, 'l' will be used for all columns except\n",
      "        columns of numbers, which default to 'r'.\n",
      "    longtable : bool, optional\n",
      "        By default, the value will be read from the pandas config\n",
      "        module. Use a longtable environment instead of tabular. Requires\n",
      "        adding a \\usepackage{longtable} to your LaTeX preamble.\n",
      "    escape : bool, optional\n",
      "        By default, the value will be read from the pandas config\n",
      "        module. When set to False prevents from escaping latex special\n",
      "        characters in column names.\n",
      "    encoding : str, optional\n",
      "        A string representing the encoding to use in the output file,\n",
      "        defaults to 'utf-8'.\n",
      "    decimal : str, default '.'\n",
      "        Character recognized as decimal separator, e.g. ',' in Europe.\n",
      "    multicolumn : bool, default True\n",
      "        Use \\multicolumn to enhance MultiIndex columns.\n",
      "        The default will be read from the config module.\n",
      "    multicolumn_format : str, default 'l'\n",
      "        The alignment for multicolumns, similar to `column_format`\n",
      "        The default will be read from the config module.\n",
      "    multirow : bool, default False\n",
      "        Use \\multirow to enhance MultiIndex rows. Requires adding a\n",
      "        \\usepackage{multirow} to your LaTeX preamble. Will print\n",
      "        centered labels (instead of top-aligned) across the contained\n",
      "        rows, separating groups via clines. The default will be read\n",
      "        from the pandas config module.\n",
      "    caption : str or tuple, optional\n",
      "        Tuple (full_caption, short_caption),\n",
      "        which results in ``\\caption[short_caption]{full_caption}``;\n",
      "        if a single string is passed, no short caption will be set.\n",
      "    \n",
      "        .. versionadded:: 1.0.0\n",
      "    \n",
      "        .. versionchanged:: 1.2.0\n",
      "           Optionally allow caption to be a tuple ``(full_caption, short_caption)``.\n",
      "    \n",
      "    label : str, optional\n",
      "        The LaTeX label to be placed inside ``\\label{}`` in the output.\n",
      "        This is used with ``\\ref{}`` in the main ``.tex`` file.\n",
      "    \n",
      "        .. versionadded:: 1.0.0\n",
      "    position : str, optional\n",
      "        The LaTeX positional argument for tables, to be placed after\n",
      "        ``\\begin{}`` in the output.\n",
      "    \n",
      "        .. versionadded:: 1.2.0\n",
      "    \n",
      "            Returns\n",
      "            -------\n",
      "            str or None\n",
      "                If buf is None, returns the result as a string. Otherwise returns\n",
      "                None.\n",
      "        \n",
      "    See Also\n",
      "    --------\n",
      "    Styler.to_latex : Render a DataFrame to LaTeX with conditional formatting.\n",
      "    DataFrame.to_string : Render a DataFrame to a console-friendly\n",
      "        tabular output.\n",
      "    DataFrame.to_html : Render a DataFrame as an HTML table.\n",
      "    \n",
      "    Examples\n",
      "    --------\n",
      "    >>> df = pd.DataFrame(dict(name=['Raphael', 'Donatello'],\n",
      "    ...                   mask=['red', 'purple'],\n",
      "    ...                   weapon=['sai', 'bo staff']))\n",
      "    >>> print(df.to_latex(index=False))  # doctest: +SKIP\n",
      "    \\begin{tabular}{lll}\n",
      "     \\toprule\n",
      "           name &    mask &    weapon \\\\\n",
      "     \\midrule\n",
      "        Raphael &     red &       sai \\\\\n",
      "      Donatello &  purple &  bo staff \\\\\n",
      "    \\bottomrule\n",
      "    \\end{tabular}\n",
      "\n"
     ]
    }
   ],
   "source": [
    "help(df.to_latex)"
   ]
  },
  {
   "cell_type": "code",
   "execution_count": null,
   "id": "6c6b869d",
   "metadata": {},
   "outputs": [],
   "source": []
  }
 ],
 "metadata": {
  "kernelspec": {
   "display_name": "Python 3 (ipykernel)",
   "language": "python",
   "name": "python3"
  },
  "language_info": {
   "codemirror_mode": {
    "name": "ipython",
    "version": 3
   },
   "file_extension": ".py",
   "mimetype": "text/x-python",
   "name": "python",
   "nbconvert_exporter": "python",
   "pygments_lexer": "ipython3",
   "version": "3.10.5"
  }
 },
 "nbformat": 4,
 "nbformat_minor": 5
}
