{
 "cells": [
  {
   "cell_type": "code",
   "execution_count": 2,
   "id": "564e6456",
   "metadata": {},
   "outputs": [],
   "source": [
    "from rubin_scheduler.utils import ddf_locations\n",
    "import pandas as pd"
   ]
  },
  {
   "cell_type": "code",
   "execution_count": 3,
   "id": "fdcbcd54",
   "metadata": {},
   "outputs": [],
   "source": [
    "locations = ddf_locations()"
   ]
  },
  {
   "cell_type": "code",
   "execution_count": 4,
   "id": "425618fd",
   "metadata": {},
   "outputs": [
    {
     "data": {
      "text/plain": [
       "{'ELAISS1': (9.45, -44.025),\n",
       " 'XMM_LSS': (35.574999999999996, -4.816666666666666),\n",
       " 'ECDFS': (52.979166666666664, -28.116666666666667),\n",
       " 'COSMOS': (150.1083333333333, 2.233611111111111),\n",
       " 'EDFS_a': (58.9, -49.32),\n",
       " 'EDFS_b': (63.6, -47.6)}"
      ]
     },
     "execution_count": 4,
     "metadata": {},
     "output_type": "execute_result"
    }
   ],
   "source": [
    "locations"
   ]
  },
  {
   "cell_type": "code",
   "execution_count": 5,
   "id": "7862cc14",
   "metadata": {},
   "outputs": [],
   "source": [
    "ack = []\n",
    "for key in locations:\n",
    "    ack.append({'Short Name': key, 'RA': locations[key][0], 'Dec': locations[key][1]})\n",
    "\n",
    "df = pd.DataFrame(ack)"
   ]
  },
  {
   "cell_type": "code",
   "execution_count": 6,
   "id": "04efbfd7",
   "metadata": {},
   "outputs": [
    {
     "data": {
      "text/html": [
       "<div>\n",
       "<style scoped>\n",
       "    .dataframe tbody tr th:only-of-type {\n",
       "        vertical-align: middle;\n",
       "    }\n",
       "\n",
       "    .dataframe tbody tr th {\n",
       "        vertical-align: top;\n",
       "    }\n",
       "\n",
       "    .dataframe thead th {\n",
       "        text-align: right;\n",
       "    }\n",
       "</style>\n",
       "<table border=\"1\" class=\"dataframe\">\n",
       "  <thead>\n",
       "    <tr style=\"text-align: right;\">\n",
       "      <th></th>\n",
       "      <th>Short Name</th>\n",
       "      <th>RA</th>\n",
       "      <th>Dec</th>\n",
       "    </tr>\n",
       "  </thead>\n",
       "  <tbody>\n",
       "    <tr>\n",
       "      <th>0</th>\n",
       "      <td>ELAISS1</td>\n",
       "      <td>9.450000</td>\n",
       "      <td>-44.025000</td>\n",
       "    </tr>\n",
       "    <tr>\n",
       "      <th>1</th>\n",
       "      <td>XMM_LSS</td>\n",
       "      <td>35.575000</td>\n",
       "      <td>-4.816667</td>\n",
       "    </tr>\n",
       "    <tr>\n",
       "      <th>2</th>\n",
       "      <td>ECDFS</td>\n",
       "      <td>52.979167</td>\n",
       "      <td>-28.116667</td>\n",
       "    </tr>\n",
       "    <tr>\n",
       "      <th>3</th>\n",
       "      <td>COSMOS</td>\n",
       "      <td>150.108333</td>\n",
       "      <td>2.233611</td>\n",
       "    </tr>\n",
       "    <tr>\n",
       "      <th>4</th>\n",
       "      <td>EDFS_a</td>\n",
       "      <td>58.900000</td>\n",
       "      <td>-49.320000</td>\n",
       "    </tr>\n",
       "    <tr>\n",
       "      <th>5</th>\n",
       "      <td>EDFS_b</td>\n",
       "      <td>63.600000</td>\n",
       "      <td>-47.600000</td>\n",
       "    </tr>\n",
       "  </tbody>\n",
       "</table>\n",
       "</div>"
      ],
      "text/plain": [
       "  Short Name          RA        Dec\n",
       "0    ELAISS1    9.450000 -44.025000\n",
       "1    XMM_LSS   35.575000  -4.816667\n",
       "2      ECDFS   52.979167 -28.116667\n",
       "3     COSMOS  150.108333   2.233611\n",
       "4     EDFS_a   58.900000 -49.320000\n",
       "5     EDFS_b   63.600000 -47.600000"
      ]
     },
     "execution_count": 6,
     "metadata": {},
     "output_type": "execute_result"
    }
   ],
   "source": [
    "df"
   ]
  },
  {
   "cell_type": "code",
   "execution_count": 7,
   "id": "c5158c51",
   "metadata": {},
   "outputs": [
    {
     "name": "stdout",
     "output_type": "stream",
     "text": [
      "\\begin{tabular}{lrr}\n",
      "\\toprule\n",
      "Short Name & RA & Dec \\\\\n",
      "\\midrule\n",
      "ELAISS1 & 9.450 & -44.025 \\\\\n",
      "XMM_LSS & 35.575 & -4.817 \\\\\n",
      "ECDFS & 52.979 & -28.117 \\\\\n",
      "COSMOS & 150.108 & 2.234 \\\\\n",
      "EDFS_a & 58.900 & -49.320 \\\\\n",
      "EDFS_b & 63.600 & -47.600 \\\\\n",
      "\\bottomrule\n",
      "\\end{tabular}\n",
      "\n"
     ]
    }
   ],
   "source": [
    "print(df.to_latex(float_format='%.3f', index=False))"
   ]
  },
  {
   "cell_type": "code",
   "execution_count": null,
   "id": "26168970",
   "metadata": {},
   "outputs": [],
   "source": []
  },
  {
   "cell_type": "code",
   "execution_count": null,
   "id": "6c6b869d",
   "metadata": {},
   "outputs": [],
   "source": []
  }
 ],
 "metadata": {
  "kernelspec": {
   "display_name": "Python 3 (ipykernel)",
   "language": "python",
   "name": "python3"
  },
  "language_info": {
   "codemirror_mode": {
    "name": "ipython",
    "version": 3
   },
   "file_extension": ".py",
   "mimetype": "text/x-python",
   "name": "python",
   "nbconvert_exporter": "python",
   "pygments_lexer": "ipython3",
   "version": "3.11.8"
  }
 },
 "nbformat": 4,
 "nbformat_minor": 5
}
